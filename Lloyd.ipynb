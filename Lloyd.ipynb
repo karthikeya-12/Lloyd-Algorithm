{
  "nbformat": 4,
  "nbformat_minor": 0,
  "metadata": {
    "colab": {
      "provenance": []
    },
    "kernelspec": {
      "name": "python3",
      "display_name": "Python 3"
    },
    "language_info": {
      "name": "python"
    }
  },
  "cells": [
    {
      "cell_type": "code",
      "execution_count": 52,
      "metadata": {
        "id": "7X0hP3Ny-QE7"
      },
      "outputs": [],
      "source": [
        "#Lloyd algorithm\n",
        "import numpy as np\n",
        "from sklearn.datasets import make_blobs\n",
        "import matplotlib.pyplot as plt"
      ]
    },
    {
      "cell_type": "code",
      "source": [
        "#Generate sample data\n",
        "X, _ = make_blobs(n_samples=100, centers=3, random_state=42)"
      ],
      "metadata": {
        "id": "kRVz-OpX-nfK"
      },
      "execution_count": 53,
      "outputs": []
    },
    {
      "cell_type": "code",
      "source": [
        "#Utility function\n",
        "def find_clusters(point, clusters):\n",
        "  for i , cluster in enumerate(clusters):\n",
        "    if point in cluster:\n",
        "      return i\n",
        "\n",
        "  return -1"
      ],
      "metadata": {
        "id": "RcaFFg_S-1aE"
      },
      "execution_count": 54,
      "outputs": []
    },
    {
      "cell_type": "code",
      "source": [
        "def cost_function(data, clusters):\n",
        "  cost = 0\n",
        "  for cluster in clusters:\n",
        "    if len(cluster) > 0:\n",
        "      centroid = np.mean(data[cluster], axis=0)\n",
        "      cost += np.sum(np.square(data[cluster] - centroid)**2)\n",
        "\n",
        "  return cost\n"
      ],
      "metadata": {
        "id": "xtnKOKyW_CP8"
      },
      "execution_count": 55,
      "outputs": []
    },
    {
      "cell_type": "code",
      "source": [
        "def move_point(point,from_cluster, to_cluster):\n",
        "  from_cluster.remove(point)\n",
        "  to_cluster.append(point)\n"
      ],
      "metadata": {
        "id": "FqJJA3Qb_e7A"
      },
      "execution_count": 56,
      "outputs": []
    },
    {
      "cell_type": "code",
      "source": [
        "\"\"\"def conservative_clustering(data, clusters):\n",
        "  cuurent_cost = cost_function(data,clusters)\n",
        "  while True:\n",
        "    improved = False\n",
        "    for i in range(len(data)):\n",
        "      cuurent_cluster_idx = dind_cluster(i, clusters)\n",
        "      for j in range(len(clusters)):\n",
        "        if j != cuurent_cluster_idx:\n",
        "          new_clusters = [cluster[:] for cluster in clusters]\n",
        "          if i in new_clusters[cuurent_cluster_idx]:\n",
        "            new_clusters[j].append(i)\n",
        "            new_cost = cost_function(data, new_clusters)\n",
        "            if new_cost < current_cost:\n",
        "              current_cost = new_cost\n",
        "              move_point(i, new_clusters[cuurent_cluster_idx], new_clusters[j])\n",
        "              improved = True\n",
        "    if not improved:\n",
        "      break\n",
        "  return clusters\"\"\""
      ],
      "metadata": {
        "id": "s3k9wq_LAGnC",
        "colab": {
          "base_uri": "https://localhost:8080/",
          "height": 159
        },
        "outputId": "6f8a2fae-d43b-4e05-bfcd-3badab602379"
      },
      "execution_count": 57,
      "outputs": [
        {
          "output_type": "execute_result",
          "data": {
            "text/plain": [
              "'def conservative_clustering(data, clusters):\\n  cuurent_cost = cost_function(data,clusters)\\n  while True:\\n    improved = False\\n    for i in range(len(data)):\\n      cuurent_cluster_idx = dind_cluster(i, clusters)\\n      for j in range(len(clusters)):\\n        if j != cuurent_cluster_idx:\\n          new_clusters = [cluster[:] for cluster in clusters]\\n          if i in new_clusters[cuurent_cluster_idx]:\\n            new_clusters[j].append(i)\\n            new_cost = cost_function(data, new_clusters)\\n            if new_cost < current_cost:\\n              current_cost = new_cost\\n              move_point(i, new_clusters[cuurent_cluster_idx], new_clusters[j])\\n              improved = True\\n    if not improved:\\n      break\\n  return clusters'"
            ],
            "application/vnd.google.colaboratory.intrinsic+json": {
              "type": "string"
            }
          },
          "metadata": {},
          "execution_count": 57
        }
      ]
    },
    {
      "cell_type": "code",
      "source": [
        "#Initial clustering\n",
        "\"\"\"k = 3\n",
        "clusters = [[] for _ in range(k)]\n",
        "for i in range(len(X)):\n",
        "  clusters[i % k].append(i)\"\"\""
      ],
      "metadata": {
        "id": "UFmLdAv4BRIj",
        "colab": {
          "base_uri": "https://localhost:8080/",
          "height": 55
        },
        "outputId": "0a36a8a2-01d3-48ab-c7e4-459f19efe1d3"
      },
      "execution_count": 58,
      "outputs": [
        {
          "output_type": "execute_result",
          "data": {
            "text/plain": [
              "'k = 3\\nclusters = [[] for _ in range(k)]\\nfor i in range(len(X)):\\n  clusters[i % k].append(i)'"
            ],
            "application/vnd.google.colaboratory.intrinsic+json": {
              "type": "string"
            }
          },
          "metadata": {},
          "execution_count": 58
        }
      ]
    },
    {
      "source": [
        "def cost_function(data, clusters):\n",
        "  cost = 0\n",
        "  for cluster in clusters:\n",
        "    if len(cluster) > 0:\n",
        "      centroid = np.mean(data[cluster], axis=0)\n",
        "      cost += np.sum(np.square(data[cluster] - centroid)**2)\n",
        "\n",
        "  return cost\n",
        "\n",
        "def move_point(point,from_cluster, to_cluster):\n",
        "  from_cluster.remove(point)\n",
        "  to_cluster.append(point)\n",
        "\n",
        "def find_cluster(point, clusters): # New function to find the cluster index\n",
        "    for idx, cluster in enumerate(clusters):\n",
        "        if point in cluster:\n",
        "            return idx\n",
        "    return None\n",
        "\n",
        "def conservative_clustering(data, clusters):\n",
        "  current_cost = cost_function(data,clusters) # Fixed typo 'cuurent_cost'\n",
        "  while True:\n",
        "    improved = False\n",
        "    for i in range(len(data)):\n",
        "      current_cluster_idx = find_cluster(i, clusters) # Use the new function\n",
        "      for j in range(len(clusters)):\n",
        "        if j != current_cluster_idx:\n",
        "          new_clusters = [cluster[:] for cluster in clusters]\n",
        "          if i in new_clusters[current_cluster_idx]:\n",
        "            new_clusters[j].append(i)\n",
        "            new_cost = cost_function(data, new_clusters)\n",
        "            if new_cost < current_cost:\n",
        "              current_cost = new_cost\n",
        "              move_point(i, new_clusters[current_cluster_idx], new_clusters[j])\n",
        "              improved = True\n",
        "    if not improved:\n",
        "      break\n",
        "  return clusters\n",
        "\n",
        "#Initial clustering\n",
        "k = 3\n",
        "clusters = [[] for _ in range(k)]\n",
        "for i in range(len(X)):\n",
        "  clusters[i % k].append(i)\n",
        "\n",
        "#Apply conservative clustering\n",
        "clusters = conservative_clustering(X, clusters)"
      ],
      "cell_type": "code",
      "metadata": {
        "id": "rEvaJ7O3Dmys"
      },
      "execution_count": 59,
      "outputs": []
    },
    {
      "cell_type": "code",
      "source": [
        "#Initial clustering\n",
        "k = 3\n",
        "clusters = [[] for _ in range(k)]\n",
        "for i in range(len(X)):\n",
        "  clusters[i % k].append(i)"
      ],
      "metadata": {
        "id": "LsQU93pZDyG1"
      },
      "execution_count": 60,
      "outputs": []
    },
    {
      "cell_type": "code",
      "source": [
        "#Apply conservative clustering\n",
        "clusters = conservative_clustering(X, clusters)\n"
      ],
      "metadata": {
        "id": "3ZnPfjcMCJ5t"
      },
      "execution_count": 61,
      "outputs": []
    },
    {
      "cell_type": "code",
      "source": [
        "#Plot the graph\n",
        "colors = ['r', 'g', 'b']\n",
        "for i, cluster in enumerate(clusters):\n",
        "  points = X[cluster]\n",
        "  plt.scatter(points[:, 0], points[:, 1], color=colors[i])\n",
        "plt.title('Conservative Clustering')\n",
        "plt.show"
      ],
      "metadata": {
        "colab": {
          "base_uri": "https://localhost:8080/",
          "height": 641
        },
        "id": "huqiXNASD12w",
        "outputId": "84118633-5dc0-40ba-f9fd-beaf0e23678e"
      },
      "execution_count": 62,
      "outputs": [
        {
          "output_type": "execute_result",
          "data": {
            "text/plain": [
              "<function matplotlib.pyplot.show(close=None, block=None)>"
            ],
            "text/html": [
              "<div style=\"max-width:800px; border: 1px solid var(--colab-border-color);\"><style>\n",
              "      pre.function-repr-contents {\n",
              "        overflow-x: auto;\n",
              "        padding: 8px 12px;\n",
              "        max-height: 500px;\n",
              "      }\n",
              "\n",
              "      pre.function-repr-contents.function-repr-contents-collapsed {\n",
              "        cursor: pointer;\n",
              "        max-height: 100px;\n",
              "      }\n",
              "    </style>\n",
              "    <pre style=\"white-space: initial; background:\n",
              "         var(--colab-secondary-surface-color); padding: 8px 12px;\n",
              "         border-bottom: 1px solid var(--colab-border-color);\"><b>matplotlib.pyplot.show</b><br/>def show(*args, **kwargs)</pre><pre class=\"function-repr-contents function-repr-contents-collapsed\" style=\"\"><a class=\"filepath\" style=\"display:none\" href=\"#\">/usr/local/lib/python3.10/dist-packages/matplotlib/pyplot.py</a>Display all open figures.\n",
              "\n",
              "Parameters\n",
              "----------\n",
              "block : bool, optional\n",
              "    Whether to wait for all figures to be closed before returning.\n",
              "\n",
              "    If `True` block and run the GUI main loop until all figure windows\n",
              "    are closed.\n",
              "\n",
              "    If `False` ensure that all figure windows are displayed and return\n",
              "    immediately.  In this case, you are responsible for ensuring\n",
              "    that the event loop is running to have responsive figures.\n",
              "\n",
              "    Defaults to True in non-interactive mode and to False in interactive\n",
              "    mode (see `.pyplot.isinteractive`).\n",
              "\n",
              "See Also\n",
              "--------\n",
              "ion : Enable interactive mode, which shows / updates the figure after\n",
              "      every plotting command, so that calling ``show()`` is not necessary.\n",
              "ioff : Disable interactive mode.\n",
              "savefig : Save the figure to an image file instead of showing it on screen.\n",
              "\n",
              "Notes\n",
              "-----\n",
              "**Saving figures to file and showing a window at the same time**\n",
              "\n",
              "If you want an image file as well as a user interface window, use\n",
              "`.pyplot.savefig` before `.pyplot.show`. At the end of (a blocking)\n",
              "``show()`` the figure is closed and thus unregistered from pyplot. Calling\n",
              "`.pyplot.savefig` afterwards would save a new and thus empty figure. This\n",
              "limitation of command order does not apply if the show is non-blocking or\n",
              "if you keep a reference to the figure and use `.Figure.savefig`.\n",
              "\n",
              "**Auto-show in jupyter notebooks**\n",
              "\n",
              "The jupyter backends (activated via ``%matplotlib inline``,\n",
              "``%matplotlib notebook``, or ``%matplotlib widget``), call ``show()`` at\n",
              "the end of every cell by default. Thus, you usually don&#x27;t have to call it\n",
              "explicitly there.</pre>\n",
              "      <script>\n",
              "      if (google.colab.kernel.accessAllowed && google.colab.files && google.colab.files.view) {\n",
              "        for (const element of document.querySelectorAll('.filepath')) {\n",
              "          element.style.display = 'block'\n",
              "          element.onclick = (event) => {\n",
              "            event.preventDefault();\n",
              "            event.stopPropagation();\n",
              "            google.colab.files.view(element.textContent, 401);\n",
              "          };\n",
              "        }\n",
              "      }\n",
              "      for (const element of document.querySelectorAll('.function-repr-contents')) {\n",
              "        element.onclick = (event) => {\n",
              "          event.preventDefault();\n",
              "          event.stopPropagation();\n",
              "          element.classList.toggle('function-repr-contents-collapsed');\n",
              "        };\n",
              "      }\n",
              "      </script>\n",
              "      </div>"
            ]
          },
          "metadata": {},
          "execution_count": 62
        },
        {
          "output_type": "display_data",
          "data": {
            "text/plain": [
              "<Figure size 640x480 with 1 Axes>"
            ],
            "image/png": "[encoded data removed]"
          },
          "metadata": {}
        }
      ]
    },
    {
      "cell_type": "code",
      "source": [
        "#Mixture of gaussian\n",
        "import numpy as np\n",
        "import matplotlib.pyplot as plt\n",
        "from sklearn.datasets import make_blobs\n",
        "from sklearn.mixture import GaussianMixture"
      ],
      "metadata": {
        "id": "_jgrL3P7EfOT"
      },
      "execution_count": 63,
      "outputs": []
    },
    {
      "cell_type": "code",
      "source": [
        "#Generate synthethic data\n",
        "X, y = make_blobs(n_samples=300, centers=4,cluster_std = 0.60, random_state=42)"
      ],
      "metadata": {
        "id": "utaXekPvEwTJ"
      },
      "execution_count": 64,
      "outputs": []
    },
    {
      "cell_type": "code",
      "source": [
        "#Apply Gaussian Mixture model\n",
        "gmm = GaussianMixture(n_components=4, random_state=0)\n",
        "gmm.fit(X)\n",
        "labels = gmm.predict(X)"
      ],
      "metadata": {
        "id": "VGGpJV5UFBBc"
      },
      "execution_count": 65,
      "outputs": []
    },
    {
      "cell_type": "code",
      "source": [
        "#Plot the results\n",
        "plt.scatter(X[:, 0], X[:, 1], c=labels, cmap='viridis')\n",
        "plt.scatter(gmm.means_[:, 0], gmm.means_[:, 1], c='red', s=200, alpha=0.5, marker='X')\n",
        "plt.title('Gaussian Mixture Model')\n",
        "plt.show()"
      ],
      "metadata": {
        "colab": {
          "base_uri": "https://localhost:8080/",
          "height": 472
        },
        "id": "WbJwhpAjFNzi",
        "outputId": "db347e5c-6be4-4c5b-82c6-c18378b16048"
      },
      "execution_count": 66,
      "outputs": [
        {
          "output_type": "display_data",
          "data": {
            "text/plain": [
              "<Figure size 640x480 with 1 Axes>"
            ],
            "image/png": "[encoded data removed]"
          },
          "metadata": {}
        }
      ]
    },
    {
      "cell_type": "code",
      "source": [
        "#k-Medoids\n",
        "import numpy as np\n",
        "from sklearn.metrics import pairwise_distances\n",
        "import random"
      ],
      "metadata": {
        "id": "Qj5G5-n4HCxf"
      },
      "execution_count": 67,
      "outputs": []
    },
    {
      "cell_type": "code",
      "source": [
        "def k_medoids(X, k, max_iter=300):\n",
        "  m,n = X.shape\n",
        "  medoids = random.sample(range(m), k)\n",
        "  medoids_old = []\n",
        "  labels = np.zeros(m)"
      ],
      "metadata": {
        "id": "2BDv05KAHNuL"
      },
      "execution_count": 68,
      "outputs": []
    },
    {
      "cell_type": "code",
      "source": [
        "def assign_labels(X, medoids):\n",
        "  dist_matrix = pairwise_distances(X, X[medoids], metric = 'euclidean')\n",
        "  return np.argmin(dist_matrix, axis=1)\n",
        ""
      ],
      "metadata": {
        "id": "rYGC1nDQHpO7"
      },
      "execution_count": 69,
      "outputs": []
    },
    {
      "cell_type": "code",
      "source": [
        "def update_medoids(X, labels, k):\n",
        "  new_medoids = np.zeroes(k, dtype=int)\n",
        "  for i in range(k):\n",
        "    cluster_points = X[labels == i]\n",
        "    if len(cluster_points) == 0:\n",
        "      new_medoids[i] = random.choice(range(X.shape[0]))\n",
        "    else:\n",
        "      dist_matrix = pairwise_distances(cluster_points, cluster_points[new_medoids], metric='euclidean')\n",
        "      medoid_idx = np.argmin(np.sum(dist_matrix, axis=1))\n",
        "      new_medoids[i] = np.where(labels == i)[0][medoid_idx]\n",
        "  return new_medoids"
      ],
      "metadata": {
        "id": "fnShXgYtH4nv"
      },
      "execution_count": 70,
      "outputs": []
    },
    {
      "cell_type": "code",
      "source": [
        "for iteration in range(max_iter):\n",
        "  labels = assign_labels(X,medoids)\n",
        "  medoids_pld = medoids\n",
        "  medoids = update_medoids(X,labels,k)\n",
        "  if np.all(medoids==medoids_old):\n",
        "    break\n",
        "\n",
        "return medoids, labels"
      ],
      "metadata": {
        "colab": {
          "base_uri": "https://localhost:8080/",
          "height": 231
        },
        "id": "VVwhNibpI9V9",
        "outputId": "65dc0f3a-fb30-4f68-dfbb-c1f2fdc44fdf"
      },
      "execution_count": 75,
      "outputs": [
        {
          "output_type": "error",
          "ename": "NameError",
          "evalue": "name 'max_iter' is not defined",
          "traceback": [
            "\u001b[0;31m---------------------------------------------------------------------------\u001b[0m",
            "\u001b[0;31mNameError\u001b[0m                                 Traceback (most recent call last)",
            "\u001b[0;32m<ipython-input-75-af0c1bde7f74>\u001b[0m in \u001b[0;36m<cell line: 1>\u001b[0;34m()\u001b[0m\n\u001b[0;32m----> 1\u001b[0;31m \u001b[0;32mfor\u001b[0m \u001b[0miteration\u001b[0m \u001b[0;32min\u001b[0m \u001b[0mrange\u001b[0m\u001b[0;34m(\u001b[0m\u001b[0mmax_iter\u001b[0m\u001b[0;34m)\u001b[0m\u001b[0;34m:\u001b[0m\u001b[0;34m\u001b[0m\u001b[0;34m\u001b[0m\u001b[0m\n\u001b[0m\u001b[1;32m      2\u001b[0m   \u001b[0mlabels\u001b[0m \u001b[0;34m=\u001b[0m \u001b[0massign_labels\u001b[0m\u001b[0;34m(\u001b[0m\u001b[0mX\u001b[0m\u001b[0;34m,\u001b[0m\u001b[0mmedoids\u001b[0m\u001b[0;34m)\u001b[0m\u001b[0;34m\u001b[0m\u001b[0;34m\u001b[0m\u001b[0m\n\u001b[1;32m      3\u001b[0m   \u001b[0mmedoids_pld\u001b[0m \u001b[0;34m=\u001b[0m \u001b[0mmedoids\u001b[0m\u001b[0;34m\u001b[0m\u001b[0;34m\u001b[0m\u001b[0m\n\u001b[1;32m      4\u001b[0m   \u001b[0mmedoids\u001b[0m \u001b[0;34m=\u001b[0m \u001b[0mupdate_medoids\u001b[0m\u001b[0;34m(\u001b[0m\u001b[0mX\u001b[0m\u001b[0;34m,\u001b[0m\u001b[0mlabels\u001b[0m\u001b[0;34m,\u001b[0m\u001b[0mk\u001b[0m\u001b[0;34m)\u001b[0m\u001b[0;34m\u001b[0m\u001b[0;34m\u001b[0m\u001b[0m\n\u001b[1;32m      5\u001b[0m   \u001b[0;32mif\u001b[0m \u001b[0mnp\u001b[0m\u001b[0;34m.\u001b[0m\u001b[0mall\u001b[0m\u001b[0;34m(\u001b[0m\u001b[0mmedoids\u001b[0m\u001b[0;34m==\u001b[0m\u001b[0mmedoids_old\u001b[0m\u001b[0;34m)\u001b[0m\u001b[0;34m:\u001b[0m\u001b[0;34m\u001b[0m\u001b[0;34m\u001b[0m\u001b[0m\n",
            "\u001b[0;31mNameError\u001b[0m: name 'max_iter' is not defined"
          ]
        }
      ]
    }
  ]
}